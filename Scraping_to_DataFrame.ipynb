{
 "cells": [
  {
   "cell_type": "markdown",
   "metadata": {},
   "source": [
    "# Site Meteo\n",
    "## Exploration de la structure de la page web\n",
    "###### . telecharger la page contenant la prevision\n",
    "###### . Utiliser BeautifulSoup pour analyser le code html\n",
    "######  . Trouver l'id seven-day-forecast et assigner le resultat a la variable seven_day\n",
    "######  . A l'interieur de seven_day, selectionner chaque prevision individuellement\n",
    "######  . Extraire et afficher le premier element"
   ]
  },
  {
   "cell_type": "code",
   "execution_count": 1,
   "metadata": {},
   "outputs": [
    {
     "name": "stdout",
     "output_type": "stream",
     "text": [
      "<div class=\"tombstone-container\">\n",
      " <p class=\"period-name\">\n",
      "  Overnight\n",
      "  <br/>\n",
      "  <br/>\n",
      " </p>\n",
      " <p>\n",
      "  <img alt=\"Overnight: Mostly cloudy, with a low around 57. West southwest wind around 9 mph. \" class=\"forecast-icon\" src=\"newimages/medium/nbkn.png\" title=\"Overnight: Mostly cloudy, with a low around 57. West southwest wind around 9 mph. \"/>\n",
      " </p>\n",
      " <p class=\"short-desc\">\n",
      "  Mostly Cloudy\n",
      " </p>\n",
      " <p class=\"temp temp-low\">\n",
      "  Low: 57 °F\n",
      " </p>\n",
      "</div>\n"
     ]
    }
   ],
   "source": [
    "import requests\n",
    "from bs4 import BeautifulSoup\n",
    "\n",
    "page = requests.get('https://forecast.weather.gov/MapClick.php?lat=37.7772&lon=-122.4168#.XvGnXRwYBnI')\n",
    "content = page.content\n",
    "soup = BeautifulSoup(page.content, 'html.parser')\n",
    "seven_day = soup.find(id='seven-day-forecast')\n",
    "forecast_items = seven_day.find_all(class_='tombstone-container')\n",
    "today = forecast_items[0]\n",
    "print(today.prettify())"
   ]
  },
  {
   "cell_type": "markdown",
   "metadata": {},
   "source": [
    "## Extraire toutes les informations d'un element\n",
    "##### .Extraire le nom de l'objet forecast, la courte description et la temperature\n",
    "##### . Extraire le titre de l'objet img"
   ]
  },
  {
   "cell_type": "code",
   "execution_count": 2,
   "metadata": {},
   "outputs": [
    {
     "name": "stdout",
     "output_type": "stream",
     "text": [
      "Overnight\n",
      "Mostly Cloudy\n",
      "Low: 57 °F\n"
     ]
    }
   ],
   "source": [
    "tonight = today.find(class_='period-name').get_text() # get_text pour obtenir le text\n",
    "tonight_short_desc = today.find(class_='short-desc').get_text()\n",
    "tonight_temp = today.find(class_='temp temp-low').get_text()\n",
    "\n",
    "print(tonight)\n",
    "print(tonight_short_desc)\n",
    "print(tonight_temp)"
   ]
  },
  {
   "cell_type": "markdown",
   "metadata": {},
   "source": [
    "##### Selectionner tous les objets de la classe period-name a l'interieur d'un objet de classe tombstone-container dans l'element seven-day.\n",
    "##### Utiliser une comprehension de liste puis appeler la methode get_text() sur chaque objet.\n",
    "\n",
    "##### Faire de meme avec les courtes descriptions,  les temperatures et les  titres (descriptions)\n"
   ]
  },
  {
   "cell_type": "code",
   "execution_count": 4,
   "metadata": {},
   "outputs": [
    {
     "data": {
      "text/plain": [
       "['Overnight',\n",
       " 'Wednesday',\n",
       " 'WednesdayNight',\n",
       " 'Thursday',\n",
       " 'ThursdayNight',\n",
       " 'Friday',\n",
       " 'FridayNight',\n",
       " 'Saturday',\n",
       " 'SaturdayNight']"
      ]
     },
     "execution_count": 4,
     "metadata": {},
     "output_type": "execute_result"
    }
   ],
   "source": [
    "period_tags = seven_day.select('.tombstone-container .period-name')\n",
    "# On parcourt tous les elements de 'period_tags' et pour chaque element on applique la methode get_text()\n",
    "# On obtient une liste\n",
    "periods = [pt.get_text() for pt in period_tags]\n",
    "periods"
   ]
  },
  {
   "cell_type": "code",
   "execution_count": 5,
   "metadata": {},
   "outputs": [
    {
     "data": {
      "text/plain": [
       "['Mostly Cloudy',\n",
       " 'DecreasingClouds',\n",
       " 'Mostly Clear',\n",
       " 'Mostly Sunny',\n",
       " 'Mostly Clear',\n",
       " 'Mostly Sunny',\n",
       " 'Mostly Clear',\n",
       " 'Sunny',\n",
       " 'Mostly Clear']"
      ]
     },
     "execution_count": 5,
     "metadata": {},
     "output_type": "execute_result"
    }
   ],
   "source": [
    "short_desc_list = seven_day.select('.tombstone-container .short-desc')\n",
    "short_desc = [sd.get_text() for sd in short_desc_list]\n",
    "short_desc"
   ]
  },
  {
   "cell_type": "code",
   "execution_count": 6,
   "metadata": {},
   "outputs": [
    {
     "data": {
      "text/plain": [
       "['Low: 57 °F',\n",
       " 'High: 70 °F',\n",
       " 'Low: 58 °F',\n",
       " 'High: 73 °F',\n",
       " 'Low: 58 °F',\n",
       " 'High: 73 °F',\n",
       " 'Low: 59 °F',\n",
       " 'High: 71 °F',\n",
       " 'Low: 57 °F']"
      ]
     },
     "execution_count": 6,
     "metadata": {},
     "output_type": "execute_result"
    }
   ],
   "source": [
    "temp_list = seven_day.select('.tombstone-container .temp')\n",
    "temp = [t.get_text() for t in temp_list]\n",
    "temp"
   ]
  },
  {
   "cell_type": "code",
   "execution_count": 7,
   "metadata": {},
   "outputs": [
    {
     "data": {
      "text/plain": [
       "['Overnight: Mostly cloudy, with a low around 57. West southwest wind around 9 mph. ',\n",
       " 'Wednesday: Mostly cloudy, then gradually becoming sunny, with a high near 70. West southwest wind 9 to 14 mph. ',\n",
       " 'Wednesday Night: Mostly clear, with a low around 58. West southwest wind 9 to 13 mph. ',\n",
       " 'Thursday: Mostly sunny, with a high near 73. Southwest wind 5 to 14 mph. ',\n",
       " 'Thursday Night: Mostly clear, with a low around 58. West southwest wind 10 to 14 mph, with gusts as high as 18 mph. ',\n",
       " 'Friday: Mostly sunny, with a high near 73.',\n",
       " 'Friday Night: Mostly clear, with a low around 59.',\n",
       " 'Saturday: Sunny, with a high near 71.',\n",
       " 'Saturday Night: Mostly clear, with a low around 57.']"
      ]
     },
     "execution_count": 7,
     "metadata": {},
     "output_type": "execute_result"
    }
   ],
   "source": [
    "desc_list = seven_day.select('.tombstone-container img')\n",
    "desc = [d['title'] for d in desc_list]\n",
    "desc"
   ]
  },
  {
   "cell_type": "markdown",
   "metadata": {},
   "source": [
    "## Affichage du resultat avec pandas"
   ]
  },
  {
   "cell_type": "code",
   "execution_count": 8,
   "metadata": {},
   "outputs": [],
   "source": [
    "import pandas as pd\n",
    "weather = pd.DataFrame({\n",
    "    'periods':periods,\n",
    "    'short_desc': short_desc,\n",
    "    'temp': temp,\n",
    "    'desc': desc\n",
    "    })"
   ]
  },
  {
   "cell_type": "code",
   "execution_count": 9,
   "metadata": {},
   "outputs": [
    {
     "data": {
      "text/html": [
       "<div>\n",
       "<style scoped>\n",
       "    .dataframe tbody tr th:only-of-type {\n",
       "        vertical-align: middle;\n",
       "    }\n",
       "\n",
       "    .dataframe tbody tr th {\n",
       "        vertical-align: top;\n",
       "    }\n",
       "\n",
       "    .dataframe thead th {\n",
       "        text-align: right;\n",
       "    }\n",
       "</style>\n",
       "<table border=\"1\" class=\"dataframe\">\n",
       "  <thead>\n",
       "    <tr style=\"text-align: right;\">\n",
       "      <th></th>\n",
       "      <th>periods</th>\n",
       "      <th>short_desc</th>\n",
       "      <th>temp</th>\n",
       "      <th>desc</th>\n",
       "    </tr>\n",
       "  </thead>\n",
       "  <tbody>\n",
       "    <tr>\n",
       "      <td>0</td>\n",
       "      <td>Overnight</td>\n",
       "      <td>Mostly Cloudy</td>\n",
       "      <td>Low: 57 °F</td>\n",
       "      <td>Overnight: Mostly cloudy, with a low around 57...</td>\n",
       "    </tr>\n",
       "    <tr>\n",
       "      <td>1</td>\n",
       "      <td>Wednesday</td>\n",
       "      <td>DecreasingClouds</td>\n",
       "      <td>High: 70 °F</td>\n",
       "      <td>Wednesday: Mostly cloudy, then gradually becom...</td>\n",
       "    </tr>\n",
       "    <tr>\n",
       "      <td>2</td>\n",
       "      <td>WednesdayNight</td>\n",
       "      <td>Mostly Clear</td>\n",
       "      <td>Low: 58 °F</td>\n",
       "      <td>Wednesday Night: Mostly clear, with a low arou...</td>\n",
       "    </tr>\n",
       "    <tr>\n",
       "      <td>3</td>\n",
       "      <td>Thursday</td>\n",
       "      <td>Mostly Sunny</td>\n",
       "      <td>High: 73 °F</td>\n",
       "      <td>Thursday: Mostly sunny, with a high near 73. S...</td>\n",
       "    </tr>\n",
       "    <tr>\n",
       "      <td>4</td>\n",
       "      <td>ThursdayNight</td>\n",
       "      <td>Mostly Clear</td>\n",
       "      <td>Low: 58 °F</td>\n",
       "      <td>Thursday Night: Mostly clear, with a low aroun...</td>\n",
       "    </tr>\n",
       "    <tr>\n",
       "      <td>5</td>\n",
       "      <td>Friday</td>\n",
       "      <td>Mostly Sunny</td>\n",
       "      <td>High: 73 °F</td>\n",
       "      <td>Friday: Mostly sunny, with a high near 73.</td>\n",
       "    </tr>\n",
       "    <tr>\n",
       "      <td>6</td>\n",
       "      <td>FridayNight</td>\n",
       "      <td>Mostly Clear</td>\n",
       "      <td>Low: 59 °F</td>\n",
       "      <td>Friday Night: Mostly clear, with a low around 59.</td>\n",
       "    </tr>\n",
       "    <tr>\n",
       "      <td>7</td>\n",
       "      <td>Saturday</td>\n",
       "      <td>Sunny</td>\n",
       "      <td>High: 71 °F</td>\n",
       "      <td>Saturday: Sunny, with a high near 71.</td>\n",
       "    </tr>\n",
       "    <tr>\n",
       "      <td>8</td>\n",
       "      <td>SaturdayNight</td>\n",
       "      <td>Mostly Clear</td>\n",
       "      <td>Low: 57 °F</td>\n",
       "      <td>Saturday Night: Mostly clear, with a low aroun...</td>\n",
       "    </tr>\n",
       "  </tbody>\n",
       "</table>\n",
       "</div>"
      ],
      "text/plain": [
       "          periods        short_desc         temp  \\\n",
       "0       Overnight     Mostly Cloudy   Low: 57 °F   \n",
       "1       Wednesday  DecreasingClouds  High: 70 °F   \n",
       "2  WednesdayNight      Mostly Clear   Low: 58 °F   \n",
       "3        Thursday      Mostly Sunny  High: 73 °F   \n",
       "4   ThursdayNight      Mostly Clear   Low: 58 °F   \n",
       "5          Friday      Mostly Sunny  High: 73 °F   \n",
       "6     FridayNight      Mostly Clear   Low: 59 °F   \n",
       "7        Saturday             Sunny  High: 71 °F   \n",
       "8   SaturdayNight      Mostly Clear   Low: 57 °F   \n",
       "\n",
       "                                                desc  \n",
       "0  Overnight: Mostly cloudy, with a low around 57...  \n",
       "1  Wednesday: Mostly cloudy, then gradually becom...  \n",
       "2  Wednesday Night: Mostly clear, with a low arou...  \n",
       "3  Thursday: Mostly sunny, with a high near 73. S...  \n",
       "4  Thursday Night: Mostly clear, with a low aroun...  \n",
       "5         Friday: Mostly sunny, with a high near 73.  \n",
       "6  Friday Night: Mostly clear, with a low around 59.  \n",
       "7              Saturday: Sunny, with a high near 71.  \n",
       "8  Saturday Night: Mostly clear, with a low aroun...  "
      ]
     },
     "execution_count": 9,
     "metadata": {},
     "output_type": "execute_result"
    }
   ],
   "source": [
    "weather"
   ]
  },
  {
   "cell_type": "code",
   "execution_count": null,
   "metadata": {},
   "outputs": [],
   "source": []
  }
 ],
 "metadata": {
  "kernelspec": {
   "display_name": "Python 3",
   "language": "python",
   "name": "python3"
  },
  "language_info": {
   "codemirror_mode": {
    "name": "ipython",
    "version": 3
   },
   "file_extension": ".py",
   "mimetype": "text/x-python",
   "name": "python",
   "nbconvert_exporter": "python",
   "pygments_lexer": "ipython3",
   "version": "3.7.4"
  }
 },
 "nbformat": 4,
 "nbformat_minor": 2
}
