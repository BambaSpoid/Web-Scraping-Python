{
  "cells": [
    {
      "cell_type": "markdown",
      "metadata": {
        "id": "view-in-github",
        "colab_type": "text"
      },
      "source": [
        "<a href=\"https://colab.research.google.com/github/BambaSpoid/Web-Scraping-Python/blob/master/Update_Scraping_to_DataFrame.ipynb\" target=\"_parent\"><img src=\"https://colab.research.google.com/assets/colab-badge.svg\" alt=\"Open In Colab\"/></a>"
      ]
    },
    {
      "cell_type": "markdown",
      "metadata": {
        "id": "KSg2TTYbIvV3"
      },
      "source": [
        "# Meteo Website\n",
        "## Exploration of the web page structure\n",
        "  1. download the page containing the forecast\n",
        "  2. Use BeautifulSoup to analyze the HTML code.\n",
        "  3. Find the seven-day-forecast id and assign the result to the seven_day variable.\n",
        "  4. Within seven days, select each forecast individually.\n",
        "  5. Extract and display the first element."
      ]
    },
    {
      "cell_type": "code",
      "execution_count": 1,
      "metadata": {
        "id": "EKDNHPWgIvV7",
        "outputId": "97fe3e53-b3b4-4a48-d077-48bb03322578",
        "colab": {
          "base_uri": "https://localhost:8080/"
        }
      },
      "outputs": [
        {
          "output_type": "stream",
          "name": "stdout",
          "text": [
            "<div class=\"tombstone-container\">\n",
            " <p class=\"period-name\">\n",
            "  Overnight\n",
            "  <br/>\n",
            "  <br/>\n",
            " </p>\n",
            " <p>\n",
            "  <img alt=\"Overnight: Mostly clear, with a steady temperature around 47. Light north wind. \" class=\"forecast-icon\" src=\"newimages/medium/nfew.png\" title=\"Overnight: Mostly clear, with a steady temperature around 47. Light north wind. \"/>\n",
            " </p>\n",
            " <p class=\"short-desc\">\n",
            "  Mostly Clear\n",
            " </p>\n",
            " <p class=\"temp temp-low\">\n",
            "  Low: 47 °F\n",
            " </p>\n",
            "</div>\n"
          ]
        }
      ],
      "source": [
        "import requests\n",
        "from bs4 import BeautifulSoup\n",
        "\n",
        "page = requests.get('https://forecast.weather.gov/MapClick.php?lat=37.7772&lon=-122.4168#.XvGnXRwYBnI')\n",
        "content = page.content\n",
        "soup = BeautifulSoup(page.content, 'html.parser')\n",
        "seven_day = soup.find(id='seven-day-forecast')\n",
        "forecast_items = seven_day.find_all(class_='tombstone-container')\n",
        "today = forecast_items[0]\n",
        "print(today.prettify())"
      ]
    },
    {
      "cell_type": "markdown",
      "metadata": {
        "id": "eRUe3JCKIvWA"
      },
      "source": [
        "## Extract all information from an element\n",
        "  1. Extract the name of the forecast object, the short description, and the temperature.\n",
        "  2. Extract the title of the image object."
      ]
    },
    {
      "cell_type": "code",
      "execution_count": 2,
      "metadata": {
        "id": "vhePn1IWIvWB",
        "outputId": "7961b60e-6da9-443f-8a88-1d959bad6a56",
        "colab": {
          "base_uri": "https://localhost:8080/"
        }
      },
      "outputs": [
        {
          "output_type": "stream",
          "name": "stdout",
          "text": [
            "Overnight\n",
            "Mostly Clear\n",
            "Low: 47 °F\n"
          ]
        }
      ],
      "source": [
        "tonight = today.find(class_='period-name').get_text() # get_text to get the text\n",
        "tonight_short_desc = today.find(class_='short-desc').get_text()\n",
        "tonight_temp = today.find(class_='temp temp-low').get_text()\n",
        "\n",
        "print(tonight)\n",
        "print(tonight_short_desc)\n",
        "print(tonight_temp)"
      ]
    },
    {
      "cell_type": "markdown",
      "metadata": {
        "id": "0g8boMkCIvWC"
      },
      "source": [
        "##### Select all the objects of the class period-name inside an object of classtombstone-container in the element seven-day.\n",
        "##### Use a list comprehension then call the get_text() method on each object.\n",
        "\n",
        "##### Do the same with short descriptions, temperatures and titles (descriptions)"
      ]
    },
    {
      "cell_type": "code",
      "execution_count": 3,
      "metadata": {
        "id": "bl6uiW7nIvWC",
        "outputId": "743409f3-7545-4451-c3a1-6018550e22ab",
        "colab": {
          "base_uri": "https://localhost:8080/"
        }
      },
      "outputs": [
        {
          "output_type": "execute_result",
          "data": {
            "text/plain": [
              "['Overnight',\n",
              " 'Tuesday',\n",
              " 'TuesdayNight',\n",
              " 'Wednesday',\n",
              " 'WednesdayNight',\n",
              " 'Thursday',\n",
              " 'ThursdayNight',\n",
              " 'Friday',\n",
              " 'FridayNight']"
            ]
          },
          "metadata": {},
          "execution_count": 3
        }
      ],
      "source": [
        "period_tags = seven_day.select('.tombstone-container .period-name')\n",
        "# We go through all of the \"period_tags\" elements and apply the get_text() method to each one.\n",
        "# We receive a list \n",
        "periods = [pt.get_text() for pt in period_tags]\n",
        "periods"
      ]
    },
    {
      "cell_type": "code",
      "execution_count": 4,
      "metadata": {
        "id": "dO6RwCNXIvWD",
        "outputId": "723ca86e-7d33-4b25-81d6-1716abb24efe",
        "colab": {
          "base_uri": "https://localhost:8080/"
        }
      },
      "outputs": [
        {
          "output_type": "execute_result",
          "data": {
            "text/plain": [
              "['Mostly Clear',\n",
              " 'Partly Sunny',\n",
              " 'Mostly Clear',\n",
              " 'Sunny',\n",
              " 'Mostly Clear',\n",
              " 'Sunny',\n",
              " 'Partly Cloudy',\n",
              " 'Partly Sunny',\n",
              " 'Mostly Cloudy']"
            ]
          },
          "metadata": {},
          "execution_count": 4
        }
      ],
      "source": [
        "short_desc_list = seven_day.select('.tombstone-container .short-desc')\n",
        "short_desc = [sd.get_text() for sd in short_desc_list]\n",
        "short_desc"
      ]
    },
    {
      "cell_type": "code",
      "execution_count": 5,
      "metadata": {
        "id": "arGT-ez6IvWE",
        "outputId": "861e551c-018f-4f91-dadf-e2fc7a3c6750",
        "colab": {
          "base_uri": "https://localhost:8080/"
        }
      },
      "outputs": [
        {
          "output_type": "execute_result",
          "data": {
            "text/plain": [
              "['Low: 47 °F',\n",
              " 'High: 58 °F',\n",
              " 'Low: 44 °F',\n",
              " 'High: 60 °F',\n",
              " 'Low: 43 °F',\n",
              " 'High: 62 °F',\n",
              " 'Low: 46 °F',\n",
              " 'High: 58 °F',\n",
              " 'Low: 45 °F']"
            ]
          },
          "metadata": {},
          "execution_count": 5
        }
      ],
      "source": [
        "temp_list = seven_day.select('.tombstone-container .temp')\n",
        "temp = [t.get_text() for t in temp_list]\n",
        "temp"
      ]
    },
    {
      "cell_type": "code",
      "execution_count": 6,
      "metadata": {
        "id": "hBCgZHkeIvWE",
        "outputId": "7f3fa6a7-1a1f-436e-bbd3-2bb5c93a83ba",
        "colab": {
          "base_uri": "https://localhost:8080/"
        }
      },
      "outputs": [
        {
          "output_type": "execute_result",
          "data": {
            "text/plain": [
              "['Overnight: Mostly clear, with a steady temperature around 47. Light north wind. ',\n",
              " 'Tuesday: Partly sunny, with a high near 58. North northwest wind 3 to 8 mph. ',\n",
              " 'Tuesday Night: Mostly clear, with a low around 44. Calm wind becoming north around 6 mph after midnight. ',\n",
              " 'Wednesday: Sunny, with a high near 60. Calm wind becoming west northwest 5 to 7 mph in the afternoon. ',\n",
              " 'Wednesday Night: Mostly clear, with a low around 43. Northwest wind around 5 mph becoming calm  in the evening. ',\n",
              " 'Thursday: Sunny, with a high near 62.',\n",
              " 'Thursday Night: Partly cloudy, with a low around 46.',\n",
              " 'Friday: Partly sunny, with a high near 58.',\n",
              " 'Friday Night: Mostly cloudy, with a low around 45.']"
            ]
          },
          "metadata": {},
          "execution_count": 6
        }
      ],
      "source": [
        "desc_list = seven_day.select('.tombstone-container img')\n",
        "desc = [d['title'] for d in desc_list]\n",
        "desc"
      ]
    },
    {
      "cell_type": "markdown",
      "metadata": {
        "id": "nkHRslarIvWF"
      },
      "source": [
        "## Display the result with pandas"
      ]
    },
    {
      "cell_type": "code",
      "execution_count": 7,
      "metadata": {
        "id": "rUWuWjDTIvWG"
      },
      "outputs": [],
      "source": [
        "import pandas as pd\n",
        "weather = pd.DataFrame({\n",
        "    'periods':periods,\n",
        "    'short_desc': short_desc,\n",
        "    'temp': temp,\n",
        "    'desc': desc\n",
        "    })"
      ]
    },
    {
      "cell_type": "code",
      "execution_count": null,
      "metadata": {
        "id": "GwpV7RqVIvWG",
        "outputId": "9c47cbca-5093-4e70-ede4-a7a5b40296ae"
      },
      "outputs": [
        {
          "data": {
            "text/html": [
              "<div>\n",
              "<style scoped>\n",
              "    .dataframe tbody tr th:only-of-type {\n",
              "        vertical-align: middle;\n",
              "    }\n",
              "\n",
              "    .dataframe tbody tr th {\n",
              "        vertical-align: top;\n",
              "    }\n",
              "\n",
              "    .dataframe thead th {\n",
              "        text-align: right;\n",
              "    }\n",
              "</style>\n",
              "<table border=\"1\" class=\"dataframe\">\n",
              "  <thead>\n",
              "    <tr style=\"text-align: right;\">\n",
              "      <th></th>\n",
              "      <th>periods</th>\n",
              "      <th>short_desc</th>\n",
              "      <th>temp</th>\n",
              "      <th>desc</th>\n",
              "    </tr>\n",
              "  </thead>\n",
              "  <tbody>\n",
              "    <tr>\n",
              "      <td>0</td>\n",
              "      <td>Overnight</td>\n",
              "      <td>Mostly Cloudy</td>\n",
              "      <td>Low: 57 °F</td>\n",
              "      <td>Overnight: Mostly cloudy, with a low around 57...</td>\n",
              "    </tr>\n",
              "    <tr>\n",
              "      <td>1</td>\n",
              "      <td>Wednesday</td>\n",
              "      <td>DecreasingClouds</td>\n",
              "      <td>High: 70 °F</td>\n",
              "      <td>Wednesday: Mostly cloudy, then gradually becom...</td>\n",
              "    </tr>\n",
              "    <tr>\n",
              "      <td>2</td>\n",
              "      <td>WednesdayNight</td>\n",
              "      <td>Mostly Clear</td>\n",
              "      <td>Low: 58 °F</td>\n",
              "      <td>Wednesday Night: Mostly clear, with a low arou...</td>\n",
              "    </tr>\n",
              "    <tr>\n",
              "      <td>3</td>\n",
              "      <td>Thursday</td>\n",
              "      <td>Mostly Sunny</td>\n",
              "      <td>High: 73 °F</td>\n",
              "      <td>Thursday: Mostly sunny, with a high near 73. S...</td>\n",
              "    </tr>\n",
              "    <tr>\n",
              "      <td>4</td>\n",
              "      <td>ThursdayNight</td>\n",
              "      <td>Mostly Clear</td>\n",
              "      <td>Low: 58 °F</td>\n",
              "      <td>Thursday Night: Mostly clear, with a low aroun...</td>\n",
              "    </tr>\n",
              "    <tr>\n",
              "      <td>5</td>\n",
              "      <td>Friday</td>\n",
              "      <td>Mostly Sunny</td>\n",
              "      <td>High: 73 °F</td>\n",
              "      <td>Friday: Mostly sunny, with a high near 73.</td>\n",
              "    </tr>\n",
              "    <tr>\n",
              "      <td>6</td>\n",
              "      <td>FridayNight</td>\n",
              "      <td>Mostly Clear</td>\n",
              "      <td>Low: 59 °F</td>\n",
              "      <td>Friday Night: Mostly clear, with a low around 59.</td>\n",
              "    </tr>\n",
              "    <tr>\n",
              "      <td>7</td>\n",
              "      <td>Saturday</td>\n",
              "      <td>Sunny</td>\n",
              "      <td>High: 71 °F</td>\n",
              "      <td>Saturday: Sunny, with a high near 71.</td>\n",
              "    </tr>\n",
              "    <tr>\n",
              "      <td>8</td>\n",
              "      <td>SaturdayNight</td>\n",
              "      <td>Mostly Clear</td>\n",
              "      <td>Low: 57 °F</td>\n",
              "      <td>Saturday Night: Mostly clear, with a low aroun...</td>\n",
              "    </tr>\n",
              "  </tbody>\n",
              "</table>\n",
              "</div>"
            ],
            "text/plain": [
              "          periods        short_desc         temp  \\\n",
              "0       Overnight     Mostly Cloudy   Low: 57 °F   \n",
              "1       Wednesday  DecreasingClouds  High: 70 °F   \n",
              "2  WednesdayNight      Mostly Clear   Low: 58 °F   \n",
              "3        Thursday      Mostly Sunny  High: 73 °F   \n",
              "4   ThursdayNight      Mostly Clear   Low: 58 °F   \n",
              "5          Friday      Mostly Sunny  High: 73 °F   \n",
              "6     FridayNight      Mostly Clear   Low: 59 °F   \n",
              "7        Saturday             Sunny  High: 71 °F   \n",
              "8   SaturdayNight      Mostly Clear   Low: 57 °F   \n",
              "\n",
              "                                                desc  \n",
              "0  Overnight: Mostly cloudy, with a low around 57...  \n",
              "1  Wednesday: Mostly cloudy, then gradually becom...  \n",
              "2  Wednesday Night: Mostly clear, with a low arou...  \n",
              "3  Thursday: Mostly sunny, with a high near 73. S...  \n",
              "4  Thursday Night: Mostly clear, with a low aroun...  \n",
              "5         Friday: Mostly sunny, with a high near 73.  \n",
              "6  Friday Night: Mostly clear, with a low around 59.  \n",
              "7              Saturday: Sunny, with a high near 71.  \n",
              "8  Saturday Night: Mostly clear, with a low aroun...  "
            ]
          },
          "execution_count": 9,
          "metadata": {},
          "output_type": "execute_result"
        }
      ],
      "source": [
        "weather"
      ]
    },
    {
      "cell_type": "code",
      "execution_count": null,
      "metadata": {
        "id": "dzrGWhVyIvWH"
      },
      "outputs": [],
      "source": []
    }
  ],
  "metadata": {
    "kernelspec": {
      "display_name": "Python 3",
      "language": "python",
      "name": "python3"
    },
    "language_info": {
      "codemirror_mode": {
        "name": "ipython",
        "version": 3
      },
      "file_extension": ".py",
      "mimetype": "text/x-python",
      "name": "python",
      "nbconvert_exporter": "python",
      "pygments_lexer": "ipython3",
      "version": "3.7.4"
    },
    "colab": {
      "provenance": [],
      "include_colab_link": true
    }
  },
  "nbformat": 4,
  "nbformat_minor": 0
}